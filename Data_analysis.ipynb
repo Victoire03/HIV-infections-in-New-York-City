{
 "cells": [
  {
   "cell_type": "markdown",
   "id": "79abf3e6",
   "metadata": {},
   "source": [
    "# Project Objective\n",
    "\n",
    "This project aims to analyze the patterns and disparities of HIV infections in New York City, focusing on how race/ethnicity, age group, gender and neighborhood influence the rate of contamination. The primary goal is to identify which groups are most affected as they will serve as good indication of where public health interventions could have a huge impact.\n"
   ]
  },
  {
   "cell_type": "code",
   "execution_count": 1,
   "id": "b7cf5948",
   "metadata": {},
   "outputs": [],
   "source": [
    "#importing packages needed\n",
    "\n",
    "import requests\n",
    "import pandas as pd\n",
    "import json\n",
    "from pathlib import Path"
   ]
  }
 ],
 "metadata": {
  "kernelspec": {
   "display_name": "Python (venv)",
   "language": "python",
   "name": "venv"
  },
  "language_info": {
   "codemirror_mode": {
    "name": "ipython",
    "version": 3
   },
   "file_extension": ".py",
   "mimetype": "text/x-python",
   "name": "python",
   "nbconvert_exporter": "python",
   "pygments_lexer": "ipython3",
   "version": "3.13.2"
  }
 },
 "nbformat": 4,
 "nbformat_minor": 5
}
