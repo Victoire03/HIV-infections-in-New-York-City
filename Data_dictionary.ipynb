{
 "cells": [
  {
   "cell_type": "markdown",
   "id": "95898640",
   "metadata": {},
   "source": [
    "Showing data dictionary for Age and Gender dataset separatly first and then as a joint dataset"
   ]
  },
  {
   "cell_type": "code",
   "execution_count": 1,
   "id": "2457dc94",
   "metadata": {},
   "outputs": [],
   "source": [
    "import pandas as pd\n"
   ]
  },
  {
   "cell_type": "code",
   "execution_count": 5,
   "id": "1c9b5274",
   "metadata": {},
   "outputs": [
    {
     "name": "stdout",
     "output_type": "stream",
     "text": [
      "                                                                                          Column Name  \\\n",
      "YEAR                                                                                             YEAR   \n",
      "Borough                                                                                       Borough   \n",
      "Neighborhood (U.H.F)                                                             Neighborhood (U.H.F)   \n",
      "SEX                                                                                               SEX   \n",
      "RACE/ETHNICITY                                                                         RACE/ETHNICITY   \n",
      "TOTAL NUMBER OF HIV DIAGNOSES                                           TOTAL NUMBER OF HIV DIAGNOSES   \n",
      "HIV DIAGNOSES PER 100,000 POPULATION                             HIV DIAGNOSES PER 100,000 POPULATION   \n",
      "TOTAL NUMBER OF CONCURRENT HIV/AIDS DIAGNOSES           TOTAL NUMBER OF CONCURRENT HIV/AIDS DIAGNOSES   \n",
      "PROPORTION OF CONCURRENT HIV/AIDS DIAGNOSES AMO...  PROPORTION OF CONCURRENT HIV/AIDS DIAGNOSES AM...   \n",
      "TOTAL NUMBER OF AIDS DIAGNOSES                                         TOTAL NUMBER OF AIDS DIAGNOSES   \n",
      "AIDS DIAGNOSES PER 100,000 POPULATION                           AIDS DIAGNOSES PER 100,000 POPULATION   \n",
      "\n",
      "                                                   Data Type  Non-Null Count  \n",
      "YEAR                                                   int64            8976  \n",
      "Borough                                               object            6048  \n",
      "Neighborhood (U.H.F)                                  object            8976  \n",
      "SEX                                                   object            8976  \n",
      "RACE/ETHNICITY                                        object            8976  \n",
      "TOTAL NUMBER OF HIV DIAGNOSES                         object            8970  \n",
      "HIV DIAGNOSES PER 100,000 POPULATION                  object            8902  \n",
      "TOTAL NUMBER OF CONCURRENT HIV/AIDS DIAGNOSES         object            8974  \n",
      "PROPORTION OF CONCURRENT HIV/AIDS DIAGNOSES AMO...    object            7083  \n",
      "TOTAL NUMBER OF AIDS DIAGNOSES                        object            8973  \n",
      "AIDS DIAGNOSES PER 100,000 POPULATION                 object            8905  \n"
     ]
    }
   ],
   "source": [
    "# Gender Dictionary: column names, data types and non-null count\n",
    "\n",
    "\n",
    "df_Gender = pd.read_csv('Dataset/HIV_AIDS_by_Gender_by_Neighborhood_and_Race_Ethnicity.csv')\n",
    "df_Gender\n",
    "\n",
    "\n",
    "Gender_data_dict = pd.DataFrame({\n",
    "    \"Column Name\": df_Gender.columns,\n",
    "    \"Data Type\": df_Gender.dtypes.astype(str),\n",
    "    \"Non-Null Count\": df_Gender.notnull().sum()\n",
    "})\n",
    "\n",
    "print(Gender_data_dict)\n"
   ]
  },
  {
   "cell_type": "code",
   "execution_count": 4,
   "id": "df3bc764",
   "metadata": {},
   "outputs": [
    {
     "name": "stdout",
     "output_type": "stream",
     "text": [
      "                                                                                          Column Name  \\\n",
      "YEAR                                                                                             YEAR   \n",
      "NEIGHBORHOOD                                                                             NEIGHBORHOOD   \n",
      "RACE/ETHNICITY                                                                         RACE/ETHNICITY   \n",
      "AGE                                                                                               AGE   \n",
      "TOTAL NUMBER OF HIV DIAGNOSES                                           TOTAL NUMBER OF HIV DIAGNOSES   \n",
      "HIV DIAGNOSES PER 100,000 POPULATION                             HIV DIAGNOSES PER 100,000 POPULATION   \n",
      "TOTAL NUMBER OF CONCURRENT HIV/AIDS DIAGNOSES           TOTAL NUMBER OF CONCURRENT HIV/AIDS DIAGNOSES   \n",
      "PROPORTION OF CONCURRENT HIV/AIDS DIAGNOSES AMO...  PROPORTION OF CONCURRENT HIV/AIDS DIAGNOSES AM...   \n",
      "TOTAL NUMBER OF AIDS DIAGNOSES                                         TOTAL NUMBER OF AIDS DIAGNOSES   \n",
      "AIDS DIAGNOSES PER 100,000 POPULATION                           AIDS DIAGNOSES PER 100,000 POPULATION   \n",
      "Borough                                                                                       Borough   \n",
      "\n",
      "                                                   Data Type  Non-Null Count  \n",
      "YEAR                                                   int64           21036  \n",
      "NEIGHBORHOOD                                          object           21036  \n",
      "RACE/ETHNICITY                                        object           21036  \n",
      "AGE                                                   object           21036  \n",
      "TOTAL NUMBER OF HIV DIAGNOSES                         object           20935  \n",
      "HIV DIAGNOSES PER 100,000 POPULATION                  object           19559  \n",
      "TOTAL NUMBER OF CONCURRENT HIV/AIDS DIAGNOSES         object           21011  \n",
      "PROPORTION OF CONCURRENT HIV/AIDS DIAGNOSES AMO...    object           13572  \n",
      "TOTAL NUMBER OF AIDS DIAGNOSES                        object           20960  \n",
      "AIDS DIAGNOSES PER 100,000 POPULATION                 object           19584  \n",
      "Borough                                               object           12432  \n"
     ]
    }
   ],
   "source": [
    "# Age Dictionary: column names, data types and non-null count\n",
    "\n",
    "\n",
    "df_Age = pd.read_csv('Dataset/HIV_AIDS_by_Age_Group_by_Neighborhood_and_Race_Ethnicity.csv')\n",
    "df_Age\n",
    "\n",
    "\n",
    "Age_data_dict = pd.DataFrame({\n",
    "    \"Column Name\": df_Age.columns,\n",
    "    \"Data Type\": df_Age.dtypes.astype(str),\n",
    "    \"Non-Null Count\": df_Age.notnull().sum()\n",
    "})\n",
    "\n",
    "print(Age_data_dict)"
   ]
  }
 ],
 "metadata": {
  "kernelspec": {
   "display_name": "Python 3",
   "language": "python",
   "name": "python3"
  },
  "language_info": {
   "codemirror_mode": {
    "name": "ipython",
    "version": 3
   },
   "file_extension": ".py",
   "mimetype": "text/x-python",
   "name": "python",
   "nbconvert_exporter": "python",
   "pygments_lexer": "ipython3",
   "version": "3.13.2"
  }
 },
 "nbformat": 4,
 "nbformat_minor": 5
}
